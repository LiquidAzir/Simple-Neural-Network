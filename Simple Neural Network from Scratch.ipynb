{
 "cells": [
  {
   "cell_type": "code",
   "execution_count": 1,
   "metadata": {},
   "outputs": [],
   "source": [
    "import numpy as np\n",
    "import pandas as pd\n",
    "import sklearn\n",
    "from sklearn.model_selection import train_test_split"
   ]
  },
  {
   "cell_type": "code",
   "execution_count": 2,
   "metadata": {},
   "outputs": [],
   "source": [
    "# Import data representing RGB values of pixels in an image and Light or Dark font classification\n",
    "all_data  = pd.read_csv('https://tinyurl.com/y2qmhfsr')"
   ]
  },
  {
   "cell_type": "code",
   "execution_count": 21,
   "metadata": {},
   "outputs": [],
   "source": [
    "# Learning rate\n",
    "L = 0.01"
   ]
  },
  {
   "cell_type": "code",
   "execution_count": 3,
   "metadata": {},
   "outputs": [],
   "source": [
    "# Extract the input colu,ms, scale down by 255\n",
    "all_inputs = ((all_data.iloc[:, 0:3].values)/255.0)\n",
    "all_outputs = all_data.iloc[:, -1].values"
   ]
  },
  {
   "cell_type": "code",
   "execution_count": 4,
   "metadata": {},
   "outputs": [],
   "source": [
    "# Split the data into training and test sets\n",
    "X_train, X_test, Y_train, Y_test = train_test_split(all_inputs, all_outputs, test_size=0.25, random_state=1)\n",
    "\n",
    "n = X_train.shape[0] # number of training records"
   ]
  },
  {
   "cell_type": "code",
   "execution_count": 5,
   "metadata": {},
   "outputs": [],
   "source": [
    "# Neural network with weights and biases\n",
    "# with random initialization\n",
    "w_hidden = np.random.rand(3,3)\n",
    "w_output = np.random.rand(1,3)\n",
    "\n",
    "b_hidden = np.random.rand(3,1)\n",
    "b_output = np.random.rand(1,1)"
   ]
  },
  {
   "cell_type": "code",
   "execution_count": 6,
   "metadata": {},
   "outputs": [],
   "source": [
    "# Activation functions\n",
    "relu = lambda x: np.maximum(x,0)\n",
    "logistic = lambda x: 1/(1+np.exp(-x))"
   ]
  },
  {
   "cell_type": "code",
   "execution_count": 7,
   "metadata": {},
   "outputs": [],
   "source": [
    "# Run inputs through the network to get predicted outputs\n",
    "def forward_prop(x):\n",
    "    Z1 = w_hidden @ x + b_hidden\n",
    "    A1 = relu(Z1)\n",
    "    Z2 = w_output @ A1 + b_output\n",
    "    A2 = logistic(Z2)\n",
    "    return Z1, A1, Z2, A2"
   ]
  },
  {
   "cell_type": "code",
   "execution_count": 14,
   "metadata": {},
   "outputs": [
    {
     "name": "stdout",
     "output_type": "stream",
     "text": [
      "Accuracy: 0.59\n"
     ]
    }
   ],
   "source": [
    "# Calculate accuracy\n",
    "test_predictions = forward_prop(X_test.T)[-1] # Grab only the output layer, A2\n",
    "test_comparisons = np.equal((test_predictions >= .5).flatten().astype(int), Y_test)\n",
    "accuracy = sum(test_comparisons.astype(int)) / len(X_test)\n",
    "print(f'Accuracy: {accuracy:.2f}')"
   ]
  },
  {
   "cell_type": "code",
   "execution_count": 15,
   "metadata": {},
   "outputs": [],
   "source": [
    "# Derivatives of Activation functions\n",
    "d_relu = lambda x: np.where(x > 0, 1, 0)\n",
    "d_logistic = lambda x: np.exp(-x)/((1+np.exp(-x))**2)"
   ]
  },
  {
   "cell_type": "code",
   "execution_count": 22,
   "metadata": {},
   "outputs": [],
   "source": [
    "# Return slopes for weights and biases using chain rule\n",
    "def backward_prop(Z1, A1, Z2, A2, X, Y):\n",
    "    dC_dA2 = 2 * A2 - 2 * Y\n",
    "    dA2_dZ2 = d_logistic(Z2)\n",
    "    dZ2_dA1 = w_output\n",
    "    dZ2_dW2 = A1\n",
    "    dZ2_dB2 = 1\n",
    "    dA1_dZ1 = d_relu(Z1)\n",
    "    dZ1_dW1 = X\n",
    "    dZ1_dB1 = 1\n",
    "    \n",
    "    dC_dW2 = dC_dA2 @ dA2_dZ2 @ dZ2_dW2.T\n",
    "    \n",
    "    dC_dB2 = dC_dA2 @ dA2_dZ2 * dZ2_dB2\n",
    "    \n",
    "    dC_dA1 = dC_dA2 @ dA2_dZ2 @ dZ2_dA1\n",
    "    \n",
    "    dC_dW1 = dC_dA1 @ dA1_dZ1 @ dZ1_dW1.T\n",
    "    \n",
    "    dC_dB1 = dC_dA1 @ dA1_dZ1 * dZ1_dB1\n",
    "    \n",
    "    return dC_dW1, dC_dB1, dC_dW2, dC_dB2"
   ]
  },
  {
   "cell_type": "code",
   "execution_count": 23,
   "metadata": {},
   "outputs": [],
   "source": [
    "# Execute gradient descent\n",
    "for i in range(100_000):\n",
    "    # Randomly select on the training records\n",
    "    idx = np.random.choice(n,1,replace=False)\n",
    "    X_sample = X_train[idx].T\n",
    "    Y_sample = Y_train[idx]\n",
    "    \n",
    "    # run randomly selected training record through the network\n",
    "    Z1, A1, Z2, A2 = forward_prop(X_sample)\n",
    "    \n",
    "    # distribute error through backpropogation\n",
    "    dW1, dB1, dW2, dB2 = backward_prop(Z1, A1, Z2, A2, X_sample, Y_sample)\n",
    "    \n",
    "    # Update weights and biases\n",
    "    w_hidden -= L * dW1\n",
    "    b_hidden -= L * dB1\n",
    "    w_output -= L * dW2\n",
    "    b_output -= L * dB2\n",
    "    "
   ]
  },
  {
   "cell_type": "code",
   "execution_count": 24,
   "metadata": {},
   "outputs": [
    {
     "name": "stdout",
     "output_type": "stream",
     "text": [
      "Accuracy: 0.99\n"
     ]
    }
   ],
   "source": [
    "# Re-calculate accuracy\n",
    "test_predictions = forward_prop(X_test.T)[-1] # Grab only the output layer, A2\n",
    "test_comparisons = np.equal((test_predictions >= .5).flatten().astype(int), Y_test)\n",
    "accuracy = sum(test_comparisons.astype(int)) / len(X_test)\n",
    "print(f'Accuracy: {accuracy:.2f}')"
   ]
  },
  {
   "cell_type": "code",
   "execution_count": null,
   "metadata": {},
   "outputs": [],
   "source": []
  }
 ],
 "metadata": {
  "kernelspec": {
   "display_name": "IntroML",
   "language": "python",
   "name": "python3"
  },
  "language_info": {
   "codemirror_mode": {
    "name": "ipython",
    "version": 3
   },
   "file_extension": ".py",
   "mimetype": "text/x-python",
   "name": "python",
   "nbconvert_exporter": "python",
   "pygments_lexer": "ipython3",
   "version": "3.8.19"
  }
 },
 "nbformat": 4,
 "nbformat_minor": 2
}
